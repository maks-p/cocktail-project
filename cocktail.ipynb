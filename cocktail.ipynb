{
 "cells": [
  {
   "cell_type": "markdown",
   "metadata": {},
   "source": [
    "### Cocktail Project"
   ]
  },
  {
   "cell_type": "code",
   "execution_count": 1,
   "metadata": {},
   "outputs": [],
   "source": [
    "import pandas as pd\n",
    "import numpy as np\n",
    "import matplotlib.pyplot as plt\n",
    "import seaborn as sns\n",
    "\n",
    "from sklearn.metrics.pairwise import cosine_similarity\n",
    "from scipy import linalg, mat, dot"
   ]
  },
  {
   "cell_type": "code",
   "execution_count": 2,
   "metadata": {},
   "outputs": [],
   "source": [
    "df = pd.read_csv('cocktail_master_dataset_v1 - Sheet1.csv')"
   ]
  },
  {
   "cell_type": "code",
   "execution_count": 3,
   "metadata": {},
   "outputs": [
    {
     "data": {
      "text/html": [
       "<div>\n",
       "<style scoped>\n",
       "    .dataframe tbody tr th:only-of-type {\n",
       "        vertical-align: middle;\n",
       "    }\n",
       "\n",
       "    .dataframe tbody tr th {\n",
       "        vertical-align: top;\n",
       "    }\n",
       "\n",
       "    .dataframe thead th {\n",
       "        text-align: right;\n",
       "    }\n",
       "</style>\n",
       "<table border=\"1\" class=\"dataframe\">\n",
       "  <thead>\n",
       "    <tr style=\"text-align: right;\">\n",
       "      <th></th>\n",
       "      <th>cocktail</th>\n",
       "      <th>ingredient_primary</th>\n",
       "      <th>ingredient_sub</th>\n",
       "      <th>measure</th>\n",
       "      <th>amount</th>\n",
       "    </tr>\n",
       "  </thead>\n",
       "  <tbody>\n",
       "    <tr>\n",
       "      <td>0</td>\n",
       "      <td>Negroni</td>\n",
       "      <td>Gin</td>\n",
       "      <td>London Dry</td>\n",
       "      <td>Ounce</td>\n",
       "      <td>1.0</td>\n",
       "    </tr>\n",
       "    <tr>\n",
       "      <td>1</td>\n",
       "      <td>Negroni</td>\n",
       "      <td>Vermouth</td>\n",
       "      <td>Sweet</td>\n",
       "      <td>Ounce</td>\n",
       "      <td>1.0</td>\n",
       "    </tr>\n",
       "    <tr>\n",
       "      <td>2</td>\n",
       "      <td>Negroni</td>\n",
       "      <td>Campari</td>\n",
       "      <td>NaN</td>\n",
       "      <td>Ounce</td>\n",
       "      <td>1.0</td>\n",
       "    </tr>\n",
       "    <tr>\n",
       "      <td>3</td>\n",
       "      <td>Negroni</td>\n",
       "      <td>Orange Twist</td>\n",
       "      <td>NaN</td>\n",
       "      <td>Garnish</td>\n",
       "      <td>1.0</td>\n",
       "    </tr>\n",
       "    <tr>\n",
       "      <td>4</td>\n",
       "      <td>Negroni</td>\n",
       "      <td>Stir</td>\n",
       "      <td>NaN</td>\n",
       "      <td>Method</td>\n",
       "      <td>1.0</td>\n",
       "    </tr>\n",
       "  </tbody>\n",
       "</table>\n",
       "</div>"
      ],
      "text/plain": [
       "  cocktail ingredient_primary ingredient_sub  measure  amount\n",
       "0  Negroni                Gin     London Dry    Ounce     1.0\n",
       "1  Negroni           Vermouth          Sweet    Ounce     1.0\n",
       "2  Negroni            Campari            NaN    Ounce     1.0\n",
       "3  Negroni       Orange Twist            NaN  Garnish     1.0\n",
       "4  Negroni               Stir            NaN   Method     1.0"
      ]
     },
     "execution_count": 3,
     "metadata": {},
     "output_type": "execute_result"
    }
   ],
   "source": [
    "df.head()"
   ]
  },
  {
   "cell_type": "markdown",
   "metadata": {},
   "source": [
    "#### Number of Cocktails in Dataset:"
   ]
  },
  {
   "cell_type": "code",
   "execution_count": 4,
   "metadata": {},
   "outputs": [
    {
     "name": "stdout",
     "output_type": "stream",
     "text": [
      "Total Cocktails: 118\n"
     ]
    }
   ],
   "source": [
    "print(f'Total Cocktails: {len(df.cocktail.unique())}')"
   ]
  },
  {
   "cell_type": "markdown",
   "metadata": {},
   "source": [
    "#### Convert Dashes to Ounces"
   ]
  },
  {
   "cell_type": "code",
   "execution_count": 5,
   "metadata": {},
   "outputs": [],
   "source": [
    "dash_convert = 1/32"
   ]
  },
  {
   "cell_type": "code",
   "execution_count": 6,
   "metadata": {},
   "outputs": [],
   "source": [
    "df.amount = np.where(df.measure == 'Dash', df.amount.apply(lambda x: x*dash_convert), df.amount)\n",
    "df = df.replace('Dash', 'Ounce')"
   ]
  },
  {
   "cell_type": "markdown",
   "metadata": {},
   "source": [
    "#### Pivot Table so Ingredients become Features"
   ]
  },
  {
   "cell_type": "code",
   "execution_count": 7,
   "metadata": {},
   "outputs": [],
   "source": [
    "dfx = df.pivot_table(values='amount', index='cocktail', columns='ingredient_primary', aggfunc='first')"
   ]
  },
  {
   "cell_type": "markdown",
   "metadata": {},
   "source": [
    "#### Fill NaN Values with 0"
   ]
  },
  {
   "cell_type": "code",
   "execution_count": 8,
   "metadata": {},
   "outputs": [],
   "source": [
    "dfx = dfx.fillna(0)"
   ]
  },
  {
   "cell_type": "code",
   "execution_count": 9,
   "metadata": {},
   "outputs": [
    {
     "data": {
      "text/html": [
       "<div>\n",
       "<style scoped>\n",
       "    .dataframe tbody tr th:only-of-type {\n",
       "        vertical-align: middle;\n",
       "    }\n",
       "\n",
       "    .dataframe tbody tr th {\n",
       "        vertical-align: top;\n",
       "    }\n",
       "\n",
       "    .dataframe thead th {\n",
       "        text-align: right;\n",
       "    }\n",
       "</style>\n",
       "<table border=\"1\" class=\"dataframe\">\n",
       "  <thead>\n",
       "    <tr style=\"text-align: right;\">\n",
       "      <th>ingredient_primary</th>\n",
       "      <th>Absinthe</th>\n",
       "      <th>Allspice Dram</th>\n",
       "      <th>Amaretto</th>\n",
       "      <th>Amer Picon</th>\n",
       "      <th>Angostura Bitters</th>\n",
       "      <th>Aperol</th>\n",
       "      <th>Apple Brandy</th>\n",
       "      <th>Apricot Liqueur</th>\n",
       "      <th>Aromatized Wine</th>\n",
       "      <th>Benedictine</th>\n",
       "      <th>...</th>\n",
       "      <th>Squirt Soda</th>\n",
       "      <th>Stir</th>\n",
       "      <th>Tequila</th>\n",
       "      <th>Tonic Water</th>\n",
       "      <th>Up</th>\n",
       "      <th>Vermouth</th>\n",
       "      <th>Vodka</th>\n",
       "      <th>Whiskey</th>\n",
       "      <th>Whole Egg</th>\n",
       "      <th>Yellow Chartreuse</th>\n",
       "    </tr>\n",
       "    <tr>\n",
       "      <th>cocktail</th>\n",
       "      <th></th>\n",
       "      <th></th>\n",
       "      <th></th>\n",
       "      <th></th>\n",
       "      <th></th>\n",
       "      <th></th>\n",
       "      <th></th>\n",
       "      <th></th>\n",
       "      <th></th>\n",
       "      <th></th>\n",
       "      <th></th>\n",
       "      <th></th>\n",
       "      <th></th>\n",
       "      <th></th>\n",
       "      <th></th>\n",
       "      <th></th>\n",
       "      <th></th>\n",
       "      <th></th>\n",
       "      <th></th>\n",
       "      <th></th>\n",
       "      <th></th>\n",
       "    </tr>\n",
       "  </thead>\n",
       "  <tbody>\n",
       "    <tr>\n",
       "      <td>12 Mile Limit</td>\n",
       "      <td>0.0</td>\n",
       "      <td>0.0</td>\n",
       "      <td>0.0</td>\n",
       "      <td>0.0</td>\n",
       "      <td>0.00000</td>\n",
       "      <td>0.0</td>\n",
       "      <td>0.0</td>\n",
       "      <td>0.0</td>\n",
       "      <td>0.00</td>\n",
       "      <td>0.0</td>\n",
       "      <td>...</td>\n",
       "      <td>0.0</td>\n",
       "      <td>0.0</td>\n",
       "      <td>0.0</td>\n",
       "      <td>0.0</td>\n",
       "      <td>1.0</td>\n",
       "      <td>0.0</td>\n",
       "      <td>0.0</td>\n",
       "      <td>0.0</td>\n",
       "      <td>0.0</td>\n",
       "      <td>0.00</td>\n",
       "    </tr>\n",
       "    <tr>\n",
       "      <td>20th Century</td>\n",
       "      <td>0.0</td>\n",
       "      <td>0.0</td>\n",
       "      <td>0.0</td>\n",
       "      <td>0.0</td>\n",
       "      <td>0.00000</td>\n",
       "      <td>0.0</td>\n",
       "      <td>0.0</td>\n",
       "      <td>0.0</td>\n",
       "      <td>0.75</td>\n",
       "      <td>0.0</td>\n",
       "      <td>...</td>\n",
       "      <td>0.0</td>\n",
       "      <td>0.0</td>\n",
       "      <td>0.0</td>\n",
       "      <td>0.0</td>\n",
       "      <td>1.0</td>\n",
       "      <td>0.0</td>\n",
       "      <td>0.0</td>\n",
       "      <td>0.0</td>\n",
       "      <td>0.0</td>\n",
       "      <td>0.00</td>\n",
       "    </tr>\n",
       "    <tr>\n",
       "      <td>Affinity</td>\n",
       "      <td>0.0</td>\n",
       "      <td>0.0</td>\n",
       "      <td>0.0</td>\n",
       "      <td>0.0</td>\n",
       "      <td>0.03125</td>\n",
       "      <td>0.0</td>\n",
       "      <td>0.0</td>\n",
       "      <td>0.0</td>\n",
       "      <td>0.00</td>\n",
       "      <td>0.0</td>\n",
       "      <td>...</td>\n",
       "      <td>0.0</td>\n",
       "      <td>1.0</td>\n",
       "      <td>0.0</td>\n",
       "      <td>0.0</td>\n",
       "      <td>1.0</td>\n",
       "      <td>0.5</td>\n",
       "      <td>0.0</td>\n",
       "      <td>0.0</td>\n",
       "      <td>0.0</td>\n",
       "      <td>0.00</td>\n",
       "    </tr>\n",
       "    <tr>\n",
       "      <td>Airmail</td>\n",
       "      <td>0.0</td>\n",
       "      <td>0.0</td>\n",
       "      <td>0.0</td>\n",
       "      <td>0.0</td>\n",
       "      <td>0.00000</td>\n",
       "      <td>0.0</td>\n",
       "      <td>0.0</td>\n",
       "      <td>0.0</td>\n",
       "      <td>0.00</td>\n",
       "      <td>0.0</td>\n",
       "      <td>...</td>\n",
       "      <td>0.0</td>\n",
       "      <td>0.0</td>\n",
       "      <td>0.0</td>\n",
       "      <td>0.0</td>\n",
       "      <td>1.0</td>\n",
       "      <td>0.0</td>\n",
       "      <td>0.0</td>\n",
       "      <td>0.0</td>\n",
       "      <td>0.0</td>\n",
       "      <td>0.00</td>\n",
       "    </tr>\n",
       "    <tr>\n",
       "      <td>Alaska</td>\n",
       "      <td>0.0</td>\n",
       "      <td>0.0</td>\n",
       "      <td>0.0</td>\n",
       "      <td>0.0</td>\n",
       "      <td>0.00000</td>\n",
       "      <td>0.0</td>\n",
       "      <td>0.0</td>\n",
       "      <td>0.0</td>\n",
       "      <td>0.00</td>\n",
       "      <td>0.0</td>\n",
       "      <td>...</td>\n",
       "      <td>0.0</td>\n",
       "      <td>1.0</td>\n",
       "      <td>0.0</td>\n",
       "      <td>0.0</td>\n",
       "      <td>1.0</td>\n",
       "      <td>0.0</td>\n",
       "      <td>0.0</td>\n",
       "      <td>0.0</td>\n",
       "      <td>0.0</td>\n",
       "      <td>0.75</td>\n",
       "    </tr>\n",
       "  </tbody>\n",
       "</table>\n",
       "<p>5 rows × 92 columns</p>\n",
       "</div>"
      ],
      "text/plain": [
       "ingredient_primary  Absinthe  Allspice Dram  Amaretto  Amer Picon  \\\n",
       "cocktail                                                            \n",
       "12 Mile Limit            0.0            0.0       0.0         0.0   \n",
       "20th Century             0.0            0.0       0.0         0.0   \n",
       "Affinity                 0.0            0.0       0.0         0.0   \n",
       "Airmail                  0.0            0.0       0.0         0.0   \n",
       "Alaska                   0.0            0.0       0.0         0.0   \n",
       "\n",
       "ingredient_primary  Angostura Bitters  Aperol  Apple Brandy  Apricot Liqueur  \\\n",
       "cocktail                                                                       \n",
       "12 Mile Limit                 0.00000     0.0           0.0              0.0   \n",
       "20th Century                  0.00000     0.0           0.0              0.0   \n",
       "Affinity                      0.03125     0.0           0.0              0.0   \n",
       "Airmail                       0.00000     0.0           0.0              0.0   \n",
       "Alaska                        0.00000     0.0           0.0              0.0   \n",
       "\n",
       "ingredient_primary  Aromatized Wine  Benedictine  ...  Squirt Soda  Stir  \\\n",
       "cocktail                                          ...                      \n",
       "12 Mile Limit                  0.00          0.0  ...          0.0   0.0   \n",
       "20th Century                   0.75          0.0  ...          0.0   0.0   \n",
       "Affinity                       0.00          0.0  ...          0.0   1.0   \n",
       "Airmail                        0.00          0.0  ...          0.0   0.0   \n",
       "Alaska                         0.00          0.0  ...          0.0   1.0   \n",
       "\n",
       "ingredient_primary  Tequila  Tonic Water   Up  Vermouth  Vodka  Whiskey  \\\n",
       "cocktail                                                                  \n",
       "12 Mile Limit           0.0          0.0  1.0       0.0    0.0      0.0   \n",
       "20th Century            0.0          0.0  1.0       0.0    0.0      0.0   \n",
       "Affinity                0.0          0.0  1.0       0.5    0.0      0.0   \n",
       "Airmail                 0.0          0.0  1.0       0.0    0.0      0.0   \n",
       "Alaska                  0.0          0.0  1.0       0.0    0.0      0.0   \n",
       "\n",
       "ingredient_primary  Whole Egg  Yellow Chartreuse  \n",
       "cocktail                                          \n",
       "12 Mile Limit             0.0               0.00  \n",
       "20th Century              0.0               0.00  \n",
       "Affinity                  0.0               0.00  \n",
       "Airmail                   0.0               0.00  \n",
       "Alaska                    0.0               0.75  \n",
       "\n",
       "[5 rows x 92 columns]"
      ]
     },
     "execution_count": 9,
     "metadata": {},
     "output_type": "execute_result"
    }
   ],
   "source": [
    "dfx.head()"
   ]
  },
  {
   "cell_type": "code",
   "execution_count": 10,
   "metadata": {},
   "outputs": [
    {
     "data": {
      "text/plain": [
       "Index(['Absinthe', 'Allspice Dram', 'Amaretto', 'Amer Picon',\n",
       "       'Angostura Bitters', 'Aperol', 'Apple Brandy', 'Apricot Liqueur',\n",
       "       'Aromatized Wine', 'Benedictine', 'Bourbon', 'Cachaca', 'Calvados',\n",
       "       'Campari', 'Cane Sugar Syrup', 'Cherry', 'Cherry Heering', 'Coca-Cola',\n",
       "       'Coconut Cream', 'Cognac', 'Collins', 'Cranberry Juice',\n",
       "       'Creme de Cacao', 'Creme de Cassis', 'Creme de Menthe',\n",
       "       'Creme de Methe', 'Creme de Mure', 'Creme de Violette', 'Crushed',\n",
       "       'Curacao', 'Donn's Mix No. 1', 'Dubonnet Rouge', 'Egg White',\n",
       "       'Egg Yolk', 'Falernum', 'Fernet Branca', 'Fizz', 'Galliano', 'Gin',\n",
       "       'Ginger Syrup', 'Grapefruit Juice', 'Grapefruit Twist',\n",
       "       'Green Chartreuse', 'Grenadine', 'Heavy Cream', 'Highball',\n",
       "       'Honey Syrup', 'Lemon', 'Lemon Twist', 'Lemon Wheel', 'Lime',\n",
       "       'Lime Peel', 'Lime Wedge', 'Lime Wheel', 'Maraschino Liqueur',\n",
       "       'Mint Leaves', 'Mint Sprig', 'Nutmeg', 'Orange Bitters',\n",
       "       'Orange Flower Water', 'Orange Juice', 'Orange Slice', 'Orange Twist',\n",
       "       'Orgeat', 'Pernod Absinthe', 'Peychaud's Bitters', 'Pineapple Juice',\n",
       "       'Pineapple Wedge', 'Pisco', 'Port', 'Raspberry Syrup',\n",
       "       'Rich Simple Syrup', 'Rocks', 'Rum', 'Rye', 'Salt', 'Scotch', 'Seltzer',\n",
       "       'Shake', 'Sherry', 'Simple Syrup', 'Sparkling Wine', 'Squirt Soda',\n",
       "       'Stir', 'Tequila', 'Tonic Water', 'Up', 'Vermouth', 'Vodka', 'Whiskey',\n",
       "       'Whole Egg', 'Yellow Chartreuse'],\n",
       "      dtype='object', name='ingredient_primary')"
      ]
     },
     "execution_count": 10,
     "metadata": {},
     "output_type": "execute_result"
    }
   ],
   "source": [
    "dfx.columns"
   ]
  },
  {
   "cell_type": "code",
   "execution_count": 11,
   "metadata": {},
   "outputs": [],
   "source": [
    "not_ingredients = ['Cherry', 'Fizz', 'Highball', 'Lime Wheel', 'Lime Peel', 'Orange Twist', 'Lemon Twist', \n",
    "                        'Orange Slice', 'Stir', 'Shake', 'Lime Wedge', 'Mint Leaves', 'Mint Sprig', 'Nutmeg',\n",
    "                        'Up', 'Rocks', 'Collins', 'Crushed', 'Pineapple Wedge', 'Salt', 'Grapefruit Twist']"
   ]
  },
  {
   "cell_type": "code",
   "execution_count": 12,
   "metadata": {},
   "outputs": [],
   "source": [
    "ingredient_cols = dfx.columns[~dfx.columns.isin(not_ingredients)]"
   ]
  },
  {
   "cell_type": "code",
   "execution_count": 13,
   "metadata": {},
   "outputs": [],
   "source": [
    "dfi = dfx[ingredient_cols]"
   ]
  },
  {
   "cell_type": "code",
   "execution_count": 14,
   "metadata": {},
   "outputs": [],
   "source": [
    "dfi = dfi.div(dfi.sum(axis=1), axis=0)"
   ]
  },
  {
   "cell_type": "code",
   "execution_count": 15,
   "metadata": {},
   "outputs": [
    {
     "data": {
      "text/plain": [
       "Index(['Absinthe', 'Allspice Dram', 'Amaretto', 'Amer Picon',\n",
       "       'Angostura Bitters', 'Aperol', 'Apple Brandy', 'Apricot Liqueur',\n",
       "       'Aromatized Wine', 'Benedictine', 'Bourbon', 'Cachaca', 'Calvados',\n",
       "       'Campari', 'Cane Sugar Syrup', 'Cherry Heering', 'Coca-Cola',\n",
       "       'Coconut Cream', 'Cognac', 'Cranberry Juice', 'Creme de Cacao',\n",
       "       'Creme de Cassis', 'Creme de Menthe', 'Creme de Methe', 'Creme de Mure',\n",
       "       'Creme de Violette', 'Curacao', 'Donn's Mix No. 1', 'Dubonnet Rouge',\n",
       "       'Egg White', 'Egg Yolk', 'Falernum', 'Fernet Branca', 'Galliano', 'Gin',\n",
       "       'Ginger Syrup', 'Grapefruit Juice', 'Green Chartreuse', 'Grenadine',\n",
       "       'Heavy Cream', 'Honey Syrup', 'Lemon', 'Lemon Wheel', 'Lime',\n",
       "       'Maraschino Liqueur', 'Orange Bitters', 'Orange Flower Water',\n",
       "       'Orange Juice', 'Orgeat', 'Pernod Absinthe', 'Peychaud's Bitters',\n",
       "       'Pineapple Juice', 'Pisco', 'Port', 'Raspberry Syrup',\n",
       "       'Rich Simple Syrup', 'Rum', 'Rye', 'Scotch', 'Seltzer', 'Sherry',\n",
       "       'Simple Syrup', 'Sparkling Wine', 'Squirt Soda', 'Tequila',\n",
       "       'Tonic Water', 'Vermouth', 'Vodka', 'Whiskey', 'Whole Egg',\n",
       "       'Yellow Chartreuse'],\n",
       "      dtype='object', name='ingredient_primary')"
      ]
     },
     "execution_count": 15,
     "metadata": {},
     "output_type": "execute_result"
    }
   ],
   "source": [
    "dfi.columns"
   ]
  },
  {
   "cell_type": "code",
   "execution_count": 16,
   "metadata": {},
   "outputs": [
    {
     "data": {
      "text/plain": [
       "(118, 71)"
      ]
     },
     "execution_count": 16,
     "metadata": {},
     "output_type": "execute_result"
    }
   ],
   "source": [
    "dfi.shape"
   ]
  },
  {
   "cell_type": "code",
   "execution_count": 17,
   "metadata": {},
   "outputs": [],
   "source": [
    "matrix = mat([dfi.iloc[0], dfi.iloc[3]])"
   ]
  },
  {
   "cell_type": "code",
   "execution_count": 18,
   "metadata": {},
   "outputs": [
    {
     "data": {
      "text/plain": [
       "matrix([[0.        , 0.        , 0.        , 0.        , 0.        ,\n",
       "         0.        , 0.        , 0.        , 0.        , 0.        ,\n",
       "         0.        , 0.        , 0.        , 0.        , 0.        ,\n",
       "         0.        , 0.        , 0.        , 0.14035088, 0.        ,\n",
       "         0.        , 0.        , 0.        , 0.        , 0.        ,\n",
       "         0.        , 0.        , 0.        , 0.        , 0.        ,\n",
       "         0.        , 0.        , 0.        , 0.        , 0.        ,\n",
       "         0.        , 0.        , 0.        , 0.21052632, 0.        ,\n",
       "         0.        , 0.21052632, 0.        , 0.        , 0.        ,\n",
       "         0.        , 0.        , 0.        , 0.        , 0.        ,\n",
       "         0.01754386, 0.        , 0.        , 0.        , 0.        ,\n",
       "         0.        , 0.28070175, 0.14035088, 0.        , 0.        ,\n",
       "         0.        , 0.        , 0.        , 0.        , 0.        ,\n",
       "         0.        , 0.        , 0.        , 0.        , 0.        ,\n",
       "         0.        ],\n",
       "        [0.        , 0.        , 0.        , 0.        , 0.        ,\n",
       "         0.        , 0.        , 0.        , 0.        , 0.        ,\n",
       "         0.        , 0.        , 0.        , 0.        , 0.        ,\n",
       "         0.        , 0.        , 0.        , 0.        , 0.        ,\n",
       "         0.        , 0.        , 0.        , 0.        , 0.        ,\n",
       "         0.        , 0.        , 0.        , 0.        , 0.        ,\n",
       "         0.        , 0.        , 0.        , 0.        , 0.        ,\n",
       "         0.        , 0.        , 0.        , 0.        , 0.        ,\n",
       "         0.15      , 0.        , 0.        , 0.15      , 0.        ,\n",
       "         0.        , 0.        , 0.        , 0.        , 0.        ,\n",
       "         0.        , 0.        , 0.        , 0.        , 0.        ,\n",
       "         0.        , 0.3       , 0.        , 0.        , 0.        ,\n",
       "         0.        , 0.        , 0.4       , 0.        , 0.        ,\n",
       "         0.        , 0.        , 0.        , 0.        , 0.        ,\n",
       "         0.        ]])"
      ]
     },
     "execution_count": 18,
     "metadata": {},
     "output_type": "execute_result"
    }
   ],
   "source": [
    "matrix"
   ]
  },
  {
   "cell_type": "code",
   "execution_count": 19,
   "metadata": {},
   "outputs": [
    {
     "data": {
      "text/plain": [
       "matrix([[0.34066122]])"
      ]
     },
     "execution_count": 19,
     "metadata": {},
     "output_type": "execute_result"
    }
   ],
   "source": [
    "dot(matrix[0],matrix[1].T)/np.linalg.norm(matrix[0])/np.linalg.norm(matrix[1])"
   ]
  },
  {
   "cell_type": "code",
   "execution_count": null,
   "metadata": {},
   "outputs": [],
   "source": []
  }
 ],
 "metadata": {
  "kernelspec": {
   "display_name": "Python 3",
   "language": "python",
   "name": "python3"
  },
  "language_info": {
   "codemirror_mode": {
    "name": "ipython",
    "version": 3
   },
   "file_extension": ".py",
   "mimetype": "text/x-python",
   "name": "python",
   "nbconvert_exporter": "python",
   "pygments_lexer": "ipython3",
   "version": "3.7.3"
  }
 },
 "nbformat": 4,
 "nbformat_minor": 4
}
